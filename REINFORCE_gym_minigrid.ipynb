{
  "cells": [
    {
      "cell_type": "markdown",
      "metadata": {
        "id": "Owd1RUEdwEur"
      },
      "source": [
        "## Basic functions\n",
        "[Github](https://github.com/goodboychan/goodboychan.github.io/blob/main/_notebooks/2020-08-06-03-Policy-Gradient-With-Gym-MiniGrid.ipynb)\n",
        "Reference for this notebook."
      ]
    },
    {
      "cell_type": "code",
      "source": [
        "#installing the environment\n",
        "from IPython.display import clear_output\n",
        "!pip install gym\n",
        "!pip install gym-minigrid\n",
        "clear_output()"
      ],
      "metadata": {
        "id": "LK8AhtabwM82"
      },
      "execution_count": null,
      "outputs": []
    },
    {
      "cell_type": "code",
      "execution_count": null,
      "metadata": {
        "id": "n8UtLqIewEus"
      },
      "outputs": [],
      "source": [
        "import numpy as np\n",
        "import matplotlib.pyplot as plt\n",
        "from pprint import pprint\n",
        "\n",
        "%matplotlib inline\n",
        "plt.rcParams['figure.figsize'] = (10.0, 8.0) # set default size of plots\n",
        "plt.rcParams['image.interpolation'] = 'nearest'\n",
        "plt.rcParams['image.cmap'] = 'gray'\n",
        "\n",
        "# for auto-reloading external modules\n",
        "# see http://stackoverflow.com/questions/1907993/autoreload-of-modules-in-ipython\n",
        "%load_ext autoreload\n",
        "%autoreload 2"
      ]
    },
    {
      "cell_type": "code",
      "execution_count": null,
      "metadata": {
        "id": "FQnnTa9owEuv"
      },
      "outputs": [],
      "source": [
        "from IPython.display import HTML\n",
        "from IPython import display\n",
        "import torch\n",
        "import torch.nn as nn\n",
        "import glob\n",
        "import io\n",
        "import base64\n",
        "import numpy as np\n",
        "import pandas as pd\n",
        "import seaborn as sns\n",
        "np.set_printoptions(precision=2, suppress=True)\n",
        "\n",
        "import matplotlib\n",
        "import matplotlib.pyplot as plt\n",
        "\n",
        "from IPython.display import HTML\n",
        "from IPython import display as ipythondisplay\n",
        "\n",
        "def show_video():\n",
        "    mp4list = glob.glob('video/*.mp4')\n",
        "    if len(mp4list) > 0:\n",
        "        mp4 = mp4list[0]\n",
        "        video = io.open(mp4, 'r+b').read()\n",
        "        encoded = base64.b64encode(video)\n",
        "        display.display(HTML(data='''<video alt=\"test\" autoplay\n",
        "                loop controls style=\"height: 400px;\">\n",
        "                <source src=\"data:video/mp4;base64,{0}\" type=\"video/mp4\" />\n",
        "             </video>'''.format(encoded.decode('ascii'))))\n",
        "    else:\n",
        "        print(\"Could not find video\")\n",
        "\n",
        "\n",
        "class AverageMeter(object):\n",
        "    \"\"\"Computes and stores the average and current value\"\"\"\n",
        "\n",
        "    def __init__(self):\n",
        "        self.reset()\n",
        "\n",
        "    def reset(self):\n",
        "        self.val = 0\n",
        "        self.avg = 0\n",
        "        self.sum = 0\n",
        "        self.count = 0\n",
        "\n",
        "    def update(self, val, n=1):\n",
        "        self.val = val\n",
        "        self.sum += val * n\n",
        "        self.count += n\n",
        "        self.avg = self.sum / self.count\n",
        "\n",
        "\n",
        "def count_model_params(model):\n",
        "    return sum(p.numel() for p in model.parameters())\n",
        "\n",
        "\n",
        "def plot_learning_curve(rewards, success_rate, num_it):\n",
        "\n",
        "    plt.plot(rewards, label='reward/eps')\n",
        "    if success_rate:\n",
        "        plt.plot(success_rate, label='success rate')\n",
        "        plt.legend()\n",
        "    else:\n",
        "        plt.ylabel('return / eps')\n",
        "    plt.ylim([0, 1])\n",
        "    plt.xlim([0, num_it - 1])\n",
        "    plt.xlabel('train iter')\n",
        "    plt.grid('on')\n",
        "    plt.show()\n",
        "\n",
        "# Wrapper around dictionary that enables attribute access instead of the bracket syntax\n",
        "# i.e. you can replace d['item'] with d.item\n",
        "class ParamDict(dict):\n",
        "    __setattr__ = dict.__setitem__\n",
        "    def __getattr__(self, attr):\n",
        "        # Take care that getattr() raises AttributeError, not KeyError.\n",
        "        # Required e.g. for hasattr(), deepcopy and OrderedDict.\n",
        "        try:\n",
        "            return self.__getitem__(attr)\n",
        "        except KeyError:\n",
        "            raise AttributeError(\"Attribute %r not found\" % attr)\n",
        "    def __getstate__(self): return self\n",
        "    def __setstate__(self, d): self = d"
      ]
    },
    {
      "cell_type": "markdown",
      "metadata": {
        "id": "-LqTZDV9wEuw"
      },
      "source": [
        "###To help agent training easily, we used `FlatObsWrapper` for flattening observation (in other words, 1D array)"
      ]
    },
    {
      "cell_type": "code",
      "execution_count": null,
      "metadata": {
        "id": "R0DFb4hpwEuw"
      },
      "outputs": [],
      "source": [
        "import gym\n",
        "from gym import spaces\n",
        "from gym_minigrid.minigrid import OBJECT_TO_IDX, COLOR_TO_IDX\n",
        "from gym_minigrid.wrappers import FullyObsWrapper\n",
        "\n",
        "max_env_steps = 100\n",
        "\n",
        "class FlatObsWrapper(gym.core.ObservationWrapper):\n",
        "    \"\"\"Fully observable gridworld returning a flat grid encoding.\"\"\"\n",
        "\n",
        "    def __init__(self, env):\n",
        "        super().__init__(env)\n",
        "\n",
        "        self.observation_space = spaces.Box(\n",
        "            low=0,\n",
        "            high=255,\n",
        "            shape=((self.env.width-2) * (self.env.height-2) * 3,),  # number of cells\n",
        "            dtype='uint8'\n",
        "        )\n",
        "        self.unwrapped.max_steps = max_env_steps\n",
        "\n",
        "    def observation(self, obs):\n",
        "        env = self.unwrapped\n",
        "        full_grid = env.grid.encode()\n",
        "        full_grid[env.agent_pos[0]][env.agent_pos[1]] = np.array([\n",
        "            OBJECT_TO_IDX['agent'],\n",
        "            COLOR_TO_IDX['red'],\n",
        "            env.agent_dir\n",
        "        ])\n",
        "        full_grid = full_grid[1:-1, 1:-1]   # remove outer walls of the environment (for efficiency)\n",
        "\n",
        "        flattened_grid = full_grid.ravel()\n",
        "        return flattened_grid"
      ]
    },
    {
      "cell_type": "markdown",
      "metadata": {
        "id": "_xw4DMAzwEuy"
      },
      "source": [
        "###Visualisation of Agent\n",
        "\n"
      ]
    },
    {
      "cell_type": "code",
      "execution_count": null,
      "metadata": {
        "id": "JWiXBj21wEuy"
      },
      "outputs": [],
      "source": [
        "from gym.wrappers.record_video import RecordVideo\n",
        "\n",
        "def wrap_env(env):\n",
        "    env = RecordVideo(env, './video',  episode_trigger = lambda episode_number: True)\n",
        "    return env\n",
        "\n",
        "def gen_wrapped_env(env_name):\n",
        "    return wrap_env(FlatObsWrapper(FullyObsWrapper(gym.make(env_name,render_mode = 'rgb_array'))))\n",
        "\n",
        "# This function plots videos of rollouts (episodes) of a given policy and environment\n",
        "def log_policy_rollout(policy, env_name, pytorch_policy=False):\n",
        "    # Create environment with flat observation\n",
        "    env = gen_wrapped_env(env_name)\n",
        "\n",
        "    # Initialize environment\n",
        "    (observation,_) = env.reset()\n",
        "\n",
        "    done = False\n",
        "    episode_reward = 0\n",
        "    episode_length = 0\n",
        "\n",
        "    # Run until done == True\n",
        "    while not done:\n",
        "      # Take a step\n",
        "        if pytorch_policy:\n",
        "            observation = torch.tensor(observation, dtype=torch.float32)\n",
        "            action = policy.act(observation)[0].data.cpu().numpy()\n",
        "        else:\n",
        "            action = policy.act(observation)[0]\n",
        "        (observation, reward, done, truncated, info) = env.step(action)\n",
        "\n",
        "        episode_reward += reward\n",
        "        episode_length += 1\n",
        "\n",
        "    print('Total reward:', episode_reward)\n",
        "    print('Total length:', episode_length)\n",
        "\n",
        "    env.close()\n",
        "\n",
        "    show_video()"
      ]
    },
    {
      "cell_type": "markdown",
      "metadata": {
        "id": "5Ke3CteJwEuz"
      },
      "source": [
        "## Implement Rollout Buffer"
      ]
    },
    {
      "cell_type": "markdown",
      "metadata": {
        "id": "BZMj9cGuwEuz"
      },
      "source": [
        "There are couple of things to notice that,\n",
        "\n",
        "- All information stored in RolloutBuffer should get the type of `torch.Tensor`\n",
        "- In this case, returns will be used for minimizing the loss. So returns object should set the `requires_grad` to `True`\n",
        "- It is inefficient to use all information to train the policy. To handle it, it requires something special sampling strategy. In this code, `BatchSample` is used."
      ]
    },
    {
      "cell_type": "code",
      "execution_count": null,
      "metadata": {
        "id": "9_izOXetwEuz"
      },
      "outputs": [],
      "source": [
        "from torch.utils.data.sampler import BatchSampler, SubsetRandomSampler\n",
        "\n",
        "class RolloutBuffer():\n",
        "    def __init__(self, rollout_size, obs_size):\n",
        "        self.rollout_size = rollout_size\n",
        "        self.obs_size = obs_size\n",
        "        self.reset()\n",
        "\n",
        "    def insert(self, step, done, action, log_prob, reward, obs):\n",
        "        self.done[step].copy_(done)\n",
        "        self.actions[step].copy_(action)\n",
        "        self.log_probs[step].copy_(log_prob)\n",
        "        self.rewards[step].copy_(reward)\n",
        "        self.obs[step].copy_(obs)\n",
        "\n",
        "    def reset(self):\n",
        "        self.done = torch.zeros(self.rollout_size, 1)\n",
        "        self.returns = torch.zeros(self.rollout_size + 1, 1, requires_grad=False)\n",
        "        # Assuming Discrete Action Space\n",
        "        self.actions = torch.zeros(self.rollout_size, 1, dtype=torch.int64)\n",
        "        self.log_probs = torch.zeros(self.rollout_size, 1)\n",
        "        self.rewards = torch.zeros(self.rollout_size, 1)\n",
        "        self.obs = torch.zeros(self.rollout_size, self.obs_size)\n",
        "\n",
        "    def compute_returns(self, gamma):\n",
        "        # Compute Returns until the last finished episode\n",
        "        self.last_done = (self.done == 1).nonzero().max()  if (self.done == 1).sum() > 0 else -1\n",
        "        self.returns[self.last_done + 1] = 0.\n",
        "\n",
        "        # Accumulate discounted returns\n",
        "        for step in reversed(range(self.last_done + 1)):\n",
        "            self.returns[step] = self.returns[step + 1] * \\\n",
        "                gamma * (1 - self.done[step]) + self.rewards[step]\n",
        "\n",
        "    def batch_sampler(self, batch_size, get_old_log_probs=False):\n",
        "        sampler = BatchSampler(\n",
        "            SubsetRandomSampler(range(self.last_done)),\n",
        "            batch_size,\n",
        "            drop_last=True)\n",
        "        for indices in sampler:\n",
        "            if get_old_log_probs:\n",
        "                yield self.actions[indices], self.returns[indices], self.obs[indices], self.log_probs[indices]\n",
        "            else:\n",
        "                yield self.actions[indices], self.returns[indices], self.obs[indices]"
      ]
    },
    {
      "cell_type": "markdown",
      "metadata": {
        "id": "AxyYugU0wEuz"
      },
      "source": [
        "## Construct Policy Network\n",
        "\n",
        "The policy is instantiated as a small neural network with simple fully-connected layers, the `ActorNetwork`. The role of policy is sort of strategy that generates the action. (Actually, it is just the probability to generate the action).\n",
        " And Of course, the important work through `ActorNetwork` is to update policy per each iteration. With pytorch, we need to define,\n",
        "\n",
        "At first, Let's look gradient function used in policy gradient,\n",
        "\n",
        "$$ \\nabla J(\\theta) = \\mathbb{E}_{\\pi}\\big[ \\nabla_{\\theta} \\log \\pi_{\\theta}(a, s) \\; V_t(s) \\big] $$\n",
        "\n",
        "Here, $\\theta$ are the parameters of the policy network $\\pi_{\\theta}$ and $V_t(s)$ is the observed future discounted reward from state $s$ onwards which should be **maximized**. So we need the calculate the gradient of $\\log \\pi_{\\theta}(a, s)$ and calculate its mean.\n",
        "\n",
        "And Plus, there are some approaches to enhance the exploration. If we can consider the **entropy loss** to handle the overall loss, it takes diverse action. At that case gradient fuction will be,\n",
        "\n",
        "$$ \\nabla J(\\theta) = \\mathbb{E}_{\\pi}\\big[ \\nabla_{\\theta} \\log \\pi_{\\theta}(a, s) \\; V_t(s) \\big] + \\nabla_{\\theta}\\mathcal{H}\\big[\\pi_\\theta(a, s)\\big]$$"
      ]
    },
    {
      "cell_type": "code",
      "execution_count": null,
      "metadata": {
        "id": "ajh5-nvfwEu0"
      },
      "outputs": [],
      "source": [
        "class ActorNetwork(nn.Module):\n",
        "    def __init__(self, num_inputs, num_actions, hidden_dim):\n",
        "        super().__init__()\n",
        "        self.num_actions = num_actions\n",
        "\n",
        "        self.fc = nn.Sequential(\n",
        "            nn.Linear(num_inputs, hidden_dim),\n",
        "            nn.Tanh(),\n",
        "            nn.Linear(hidden_dim, hidden_dim),\n",
        "            nn.Tanh(),\n",
        "            nn.Linear(hidden_dim, num_actions)\n",
        "        )\n",
        "\n",
        "    def forward(self, state):\n",
        "        x = self.fc(state)\n",
        "        return x"
      ]
    },
    {
      "cell_type": "markdown",
      "metadata": {
        "id": "ksl9wDY5wEu0"
      },
      "source": [
        "And Below is the implementation of Policy. We select the Adam Optimizer"
      ]
    },
    {
      "cell_type": "code",
      "execution_count": null,
      "metadata": {
        "id": "Rc7_GKPhwEu0"
      },
      "outputs": [],
      "source": [
        "import torch.optim as optim\n",
        "import torch.nn.functional as F\n",
        "from torch.distributions.categorical import Categorical\n",
        "\n",
        "class Policy():\n",
        "    def __init__(self, num_inputs, num_actions, hidden_dim, learning_rate,\n",
        "                 batch_size, policy_epochs, entropy_coef=0.001):\n",
        "        self.actor = ActorNetwork(num_inputs, num_actions, hidden_dim)\n",
        "        self.optimizer = optim.Adam(self.actor.parameters(), lr=learning_rate)\n",
        "        self.batch_size = batch_size\n",
        "        self.policy_epochs = policy_epochs\n",
        "        self.entropy_coef = entropy_coef\n",
        "\n",
        "    def act(self, state):\n",
        "        logits = self.actor(state)\n",
        "        # To generate the probability of action, we assume its state has categorical distribution.\n",
        "        dist = Categorical(logits=logits)\n",
        "        action = dist.sample()\n",
        "        log_prob = dist.log_prob(action)\n",
        "        return action, log_prob\n",
        "\n",
        "    def evaluate_actions(self, state, action):\n",
        "        logits = self.actor(state)\n",
        "        dist = Categorical(logits=logits)\n",
        "        log_prob = dist.log_prob(action.squeeze(-1)).view(-1, 1)\n",
        "        entropy = dist.entropy().view(-1, 1)\n",
        "        return log_prob, entropy\n",
        "\n",
        "    def update(self, rollouts):\n",
        "        for epoch in range(self.policy_epochs):\n",
        "            data = rollouts.batch_sampler(self.batch_size)\n",
        "\n",
        "            for sample in data:\n",
        "                actions_batch, returns_batch, obs_batch = sample\n",
        "\n",
        "                log_probs_batch, entropy_batch = self.evaluate_actions(obs_batch, actions_batch)\n",
        "\n",
        "                # Compute the mean loss for the policy update using\n",
        "                # action log-probabilities and policy returns\n",
        "                policy_loss = -(log_probs_batch * returns_batch).mean()\n",
        "                # Compute the mean entropy for the policy update\n",
        "                entropy_loss = -entropy_batch.mean()\n",
        "\n",
        "                loss = policy_loss + self.entropy_coef * entropy_loss\n",
        "\n",
        "                self.optimizer.zero_grad()\n",
        "                loss.backward(retain_graph=False)\n",
        "                self.optimizer.step()\n",
        "\n",
        "    @property\n",
        "    def num_params(self):\n",
        "        return count_model_params(self.actor)"
      ]
    },
    {
      "cell_type": "code",
      "execution_count": null,
      "metadata": {
        "id": "OMati7hSwEu0"
      },
      "outputs": [],
      "source": [
        "import time\n",
        "\n",
        "def train(env, rollouts, policy, params, seed=12):\n",
        "    # SETTING SEED: it is good practice to set seeds when running experiments to keep results comparable\n",
        "    np.random.seed(seed)\n",
        "    torch.manual_seed(seed)\n",
        "\n",
        "    rollout_time, update_time = AverageMeter(), AverageMeter()  # Loggers\n",
        "    rewards, success_rate = [], []\n",
        "\n",
        "    print(\"Training model with {} parameters...\".format(policy.num_params))\n",
        "\n",
        "    # Training Loop\n",
        "    for j in range(params.num_updates):\n",
        "        ## Initialization\n",
        "        avg_eps_reward, avg_success_rate = AverageMeter(), AverageMeter()\n",
        "        done = False\n",
        "        truncated = False\n",
        "        (prev_obs,_) = env.reset(seed=seed)\n",
        "        prev_obs = torch.tensor(prev_obs, dtype=torch.float32)\n",
        "        eps_reward = 0.\n",
        "        start_time = time.time()\n",
        "\n",
        "        ## Collect rollouts\n",
        "        for step in range(rollouts.rollout_size):\n",
        "            if done or truncated :\n",
        "                # Store episode statistics\n",
        "                avg_eps_reward.update(eps_reward)\n",
        "                if 'success' in info:\n",
        "                    avg_success_rate.update(int(info['success']))\n",
        "\n",
        "                # Reset Environment\n",
        "                (obs,_) = env.reset(seed=seed)\n",
        "                obs = torch.tensor(obs, dtype=torch.float32)\n",
        "                eps_reward = 0.\n",
        "            else:\n",
        "                obs = prev_obs\n",
        "\n",
        "            action, log_prob = policy.act(obs)\n",
        "            (obs, reward, done, truncated, info) = env.step(action)\n",
        "            #if reward ==0:\n",
        "             # reward = -0.01\n",
        "\n",
        "\n",
        "            rollouts.insert(step, torch.tensor(done, dtype=torch.float32), action, log_prob,\n",
        "                            torch.tensor(reward, dtype=torch.float32),\n",
        "                            prev_obs)\n",
        "\n",
        "            prev_obs = torch.tensor(obs, dtype=torch.float32)\n",
        "            eps_reward += reward\n",
        "\n",
        "        # Use the rollout buffer's function to compute the returns for all stored rollout steps. (requires just 1 line)\n",
        "        rollouts.compute_returns(params['discount'])\n",
        "\n",
        "        rollout_done_time = time.time()\n",
        "\n",
        "\n",
        "        # Call the policy's update function using the collected rollouts\n",
        "        policy.update(rollouts)\n",
        "\n",
        "        update_done_time = time.time()\n",
        "        rollouts.reset()\n",
        "\n",
        "        ## log metrics\n",
        "        rewards.append(avg_eps_reward.avg)\n",
        "        if avg_success_rate.count > 0:\n",
        "            success_rate.append(avg_success_rate.avg)\n",
        "        rollout_time.update(rollout_done_time - start_time)\n",
        "        update_time.update(update_done_time - rollout_done_time)\n",
        "        print('it {}: avgR: {:.3f} -- rollout_time: {:.3f}sec -- update_time: {:.3f}sec'.format(j,\n",
        "                                                                                                avg_eps_reward.avg,\n",
        "                                                                                                rollout_time.avg,\n",
        "                                                                                                update_time.avg))\n",
        "        if j % params.plotting_iters == 0 and j != 0:\n",
        "            plot_learning_curve(rewards, success_rate, params.num_updates)\n",
        "            log_policy_rollout(policy, params.env_name, pytorch_policy=True)\n",
        "    clear_output()   # this removes all training outputs to keep the notebook clean, DON'T REMOVE THIS LINE!\n",
        "    return rewards, success_rate"
      ]
    },
    {
      "cell_type": "markdown",
      "source": [
        "###Traning"
      ],
      "metadata": {
        "id": "nI7ApH_1NIWC"
      }
    },
    {
      "cell_type": "code",
      "execution_count": null,
      "metadata": {
        "id": "-ZmlGoXPwEu1"
      },
      "outputs": [],
      "source": [
        "import copy\n",
        "\n",
        "def instantiate(params_in, nonwrapped_env=None):\n",
        "    params = copy.deepcopy(params_in)\n",
        "\n",
        "    if nonwrapped_env is None:\n",
        "        nonwrapped_env = gym.make(params.env_name)\n",
        "\n",
        "    env = None\n",
        "    env = FlatObsWrapper(FullyObsWrapper(nonwrapped_env))\n",
        "    obs_size = env.observation_space.shape[0]\n",
        "    num_actions = env.action_space.n\n",
        "\n",
        "    rollouts = RolloutBuffer(params.rollout_size, obs_size)\n",
        "    policy_class = params.policy_params.pop('policy_class')\n",
        "\n",
        "    policy = policy_class(obs_size, num_actions, **params.policy_params)\n",
        "    return env, rollouts, policy"
      ]
    },
    {
      "cell_type": "code",
      "execution_count": null,
      "metadata": {
        "id": "d2GoYKvUwEu1"
      },
      "outputs": [],
      "source": [
        "# hyperparameters\n",
        "policy_params = ParamDict(\n",
        "    policy_class = Policy,    # Policy class to use (replaced later)\n",
        "    hidden_dim = 32,          # dimension of the hidden state in actor network\n",
        "    learning_rate = 1e-3,     # learning rate of policy update\n",
        "    batch_size = 1024,        # batch size for policy update\n",
        "    policy_epochs = 4,        # number of epochs per policy update\n",
        "    entropy_coef = 0.001,     # hyperparameter to vary the contribution of entropy loss\n",
        ")\n",
        "params = ParamDict(\n",
        "    policy_params = policy_params,\n",
        "    rollout_size = 2050,      # number of collected rollout steps per policy update\n",
        "    num_updates = 150,         # number of training policy iterations\n",
        "    discount = 0.99,          # discount factor\n",
        "    plotting_iters = 10,      # interval for logging graphs and policy rollouts\n",
        "    env_name = 'MiniGrid-Empty-5x5-v0',  # we are using a tiny environment here for testing\n",
        ")"
      ]
    },
    {
      "cell_type": "code",
      "execution_count": null,
      "metadata": {
        "id": "vgv-nes9wEu1",
        "outputId": "845bfc04-a676-4fcd-c394-b077f1374d31",
        "colab": {
          "base_uri": "https://localhost:8080/",
          "height": 1000
        }
      },
      "outputs": [
        {
          "output_type": "stream",
          "name": "stdout",
          "text": [
            "Training completed!\n"
          ]
        }
      ],
      "source": [
        "env, rollouts, policy = instantiate(params)\n",
        "rewards, success_rate = train(env, rollouts, policy, params)\n",
        "print(\"Training completed!\")"
      ]
    },
    {
      "cell_type": "code",
      "execution_count": null,
      "metadata": {
        "id": "j3Eip2YewEu1",
        "outputId": "6cf07f90-764b-461f-8f79-99a311bbbb44",
        "colab": {
          "base_uri": "https://localhost:8080/",
          "height": 1000
        }
      },
      "outputs": [
        {
          "output_type": "display_data",
          "data": {
            "text/plain": [
              "<Figure size 1000x800 with 1 Axes>"
            ],
            "image/png": "[encoded data removed]"
          },
          "metadata": {}
        },
        {
          "output_type": "stream",
          "name": "stdout",
          "text": [
            "Moviepy - Building video /content/video/rl-video-episode-0.mp4.\n",
            "Moviepy - Writing video /content/video/rl-video-episode-0.mp4\n",
            "\n"
          ]
        },
        {
          "output_type": "stream",
          "name": "stderr",
          "text": [
            "                                                  "
          ]
        },
        {
          "output_type": "stream",
          "name": "stdout",
          "text": [
            "Moviepy - Done !\n",
            "Moviepy - video ready /content/video/rl-video-episode-0.mp4\n",
            "Total reward: 0.9279999999999999\n",
            "Total length: 8\n"
          ]
        },
        {
          "output_type": "stream",
          "name": "stderr",
          "text": [
            "\r"
          ]
        },
        {
          "output_type": "display_data",
          "data": {
            "text/plain": [
              "<IPython.core.display.HTML object>"
            ],
            "text/html": [
              "<video alt=\"test\" autoplay \n",
              "                loop controls style=\"height: 400px;\">\n",
              "                <source src=\"data:video/mp4;base64,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\" type=\"video/mp4\" />\n",
              "             </video>"
            ]
          },
          "metadata": {}
        },
        {
          "output_type": "stream",
          "name": "stdout",
          "text": [
            "Moviepy - Building video /content/video/rl-video-episode-0.mp4.\n",
            "Moviepy - Writing video /content/video/rl-video-episode-0.mp4\n",
            "\n"
          ]
        },
        {
          "output_type": "stream",
          "name": "stderr",
          "text": [
            "                                                  "
          ]
        },
        {
          "output_type": "stream",
          "name": "stdout",
          "text": [
            "Moviepy - Done !\n",
            "Moviepy - video ready /content/video/rl-video-episode-0.mp4\n",
            "Total reward: 0.955\n",
            "Total length: 5\n"
          ]
        },
        {
          "output_type": "stream",
          "name": "stderr",
          "text": [
            "\r"
          ]
        },
        {
          "output_type": "display_data",
          "data": {
            "text/plain": [
              "<IPython.core.display.HTML object>"
            ],
            "text/html": [
              "<video alt=\"test\" autoplay \n",
              "                loop controls style=\"height: 400px;\">\n",
              "                <source src=\"data:video/mp4;base64,AAAAIGZ0eXBpc29tAAACAGlzb21pc28yYXZjMW1wNDEAAAAIZnJlZQAACGhtZGF0AAACrgYF//+q3EXpvebZSLeWLNgg2SPu73gyNjQgLSBjb3JlIDE1OSByMjk5MSAxNzcxYjU1IC0gSC4yNjQvTVBFRy00IEFWQyBjb2RlYyAtIENvcHlsZWZ0IDIwMDMtMjAxOSAtIGh0dHA6Ly93d3cudmlkZW9sYW4ub3JnL3gyNjQuaHRtbCAtIG9wdGlvbnM6IGNhYmFjPTEgcmVmPTMgZGVibG9jaz0xOjA6MCBhbmFseXNlPTB4MzoweDExMyBtZT1oZXggc3VibWU9NyBwc3k9MSBwc3lfcmQ9MS4wMDowLjAwIG1peGVkX3JlZj0xIG1lX3JhbmdlPTE2IGNocm9tYV9tZT0xIHRyZWxsaXM9MSA4eDhkY3Q9MSBjcW09MCBkZWFkem9uZT0yMSwxMSBmYXN0X3Bza2lwPTEgY2hyb21hX3FwX29mZnNldD0tMiB0aHJlYWRzPTMgbG9va2FoZWFkX3RocmVhZHM9MSBzbGljZWRfdGhyZWFkcz0wIG5yPTAgZGVjaW1hdGU9MSBpbnRlcmxhY2VkPTAgYmx1cmF5X2NvbXBhdD0wIGNvbnN0cmFpbmVkX2ludHJhPTAgYmZyYW1lcz0zIGJfcHlyYW1pZD0yIGJfYWRhcHQ9MSBiX2JpYXM9MCBkaXJlY3Q9MSB3ZWlnaHRiPTEgb3Blbl9nb3A9MCB3ZWlnaHRwPTIga2V5aW50PTI1MCBrZXlpbnRfbWluPTEwIHNjZW5lY3V0PTQwIGludHJhX3JlZnJlc2g9MCByY19sb29rYWhlYWQ9NDAgcmM9Y3JmIG1idHJlZT0xIGNyZj0yMy4wIHFjb21wPTAuNjAgcXBtaW49MCBxcG1heD02OSBxcHN0ZXA9NCBpcF9yYXRpbz0xLjQwIGFxPTE6MS4wMACAAAABqGWIhAA3//728P4FMEtFCXDaT+Kn50TptkDZ7WkIYrlVtpvllsnkCJlc8/1uJqwAw+HAqcMXLr4F2hVNHuj/3CKq+MxIzzhZWBhbJfohiaXKo4Iwn9QIHc0ZFBuVQYOdKqydKFeefC+00fs/wU2AgpxlWt/uKYIIyBp2Yu3wgeEF+Pmx6pfozIK84mIs275MlDarOO518n/JY6EHFhyTRvBfW6VFZPi178atNrBVUlOLdzwQwwlYVA5OCVMx83GUUiwMC1JEpWkfJ4y746n6d1/099Z8UvskKqohtcrOu5YXygQEHANYut8i/cT1+frdBqfF6cT4mtBvGDIstOZypj0Tdw/JX3ScPPg7nFDd7oEYNWAxWABwwkJQkWdOt2ltkoYCO8P2pmqhahkPSVHcAml2m75qkrz9taBPbsL+2YXcEa0skSLq25dTo8459FNvu5+ikp+B8aGznVyxihcGYoOQ58NjvaGbFUgvHRhf+Nq7+/f9rsSrKLg2+ruU4EkOQfYkU5cw5bZkJ9k0UKZ820xjut/VuuaywlCMxCtsXSEqROsbwIhAfwkAAAE0QZoibEN/+wHF/f96wqHE8vnCHTrfhPCa/EJaYAw9Wa/z8ePurhnmBSgTD3RzD0kOEQPOUARrL57NbbIGAzlEhOK283v/1mku+1zDU0az1+16FwuUOQznkEXChl1oLMWbhSYCv4mm+5yP3m/BH8Pm0f4t2hD6pQRebOXEGRW42UBag7KyBSJYO+K97xip9VqArPibusLyLWjujn3yB/zpWaYFEGwXxFMAxkqee3fQLqaZRsVYUj08OoYt4mysPwcNkxsJhkG99VIg9TpqUNZamiNkHq8A5KwQR1fQrbcQ9S9AQtsGlsUbkjReUdoPz5Dl3ydpM5B/YPr/7ujYgO58/yOgL1qZEP9SW+Am1bO0zgmaIePKwFOKraPeyv1dOUVtZzWKcv4TQigd+S/xXNtAmYo3QXAAAAAxAZ5BeQ3/gnpY+wt0O58NjEt6amCNoDf2yjteCdtmoCqNBBRAQFBn6mVo2gppz9A/QQAAAOJBmkQ8IZMphDf//pqtcFhnSUB6VIEcu1lb37Be1f6tQmMZCR3vwVvNv/wk56eG4+baAAhG6/pnwZCL9mAD5pjg1Za3zHgD3hfsLKWvgrx8FbS3+TuHVgrbHdj4EaYD9DeRC5pzf7NIEP9T/bzG2VPAIGhG/nlEiPWUCp0sNu+uwb+nehcXNwJovC/KN5uvvu1kIGo5sMKKfvOG9H9m99BXPuMghq0vFqnD8gj7h22mynoIWTkTYWoNbNJKrx5mATnRk8ba85y1phZc3lCq1xCQ3EbQL4etTTJuJUPj6pyAArPAAAAAtwGeY2pDfyv+ioLEN9fgtXBf/wk56cGC1iVa2HNwAQ/LtTcEancS7jG+55h76T2sVUxnBqWuUyrit0+/b5we7Pv8GOA7eMHEvCC/fOUwwipii0qZIw9TWca4e6+xsSjovH+h48rPUpjY0HN+ocoj3qdDqtsUm2RRsHRb/ruBrDVeQHb1gZQ4Gmp+JJXiRJxNFJCnX5AZsVe0IRp5uB86IvPB09TF/WuHRJOpho5SdjO2o9qfCqIJoQAAAPBBmmVJ4Q8mUwIb//6nhAfvI1PsbrDA+VtM7+ITjsALK5d1KxFLiwY7MbL88/st15kqBQ+TgkBw25iWPsR4Fl5nDh+Npr1o8+91PpkDWyZBVP//7g8ONezh7/vK6NN4j/ZOD/C/Ep3PRG317LMIP6XgIlQ6bcW99QPXy9Qs62lbN7wEUmJ+r2fL/p7ogXTHmgOYmovuopXuZOWRss6MhLsz+3yrckh2meeokGGfkCmGObi5Q2+b3G68bUEY5xCLTJnGH1cYkwiuaBrDN8j9RHHnDgRfBHNTQQoec2WzP6fLp3CyUwxO1fCdexn4K09x70EAAANZbW9vdgAAAGxtdmhkAAAAAAAAAAAAAAAAAAAD6AAAAlgAAQAAAQAAAAAAAAAAAAAAAAEAAAAAAAAAAAAAAAAAAAABAAAAAAAAAAAAAAAAAABAAAAAAAAAAAAAAAAAAAAAAAAAAAAAAAAAAAAAAAAAAgAAAoN0cmFrAAAAXHRraGQAAAADAAAAAAAAAAAAAAABAAAAAAAAAlgAAAAAAAAAAAAAAAAAAAAAAAEAAAAAAAAAAAAAAAAAAAABAAAAAAAAAAAAAAAAAABAAAAAAKAAAACgAAAAAAAkZWR0cwAAABxlbHN0AAAAAAAAAAEAAAJYAAAIAAABAAAAAAH7bWRpYQAAACBtZGhkAAAAAAAAAAAAAAAAAAAoAAAAGABVxAAAAAAALWhkbHIAAAAAAAAAAHZpZGUAAAAAAAAAAAAAAABWaWRlb0hhbmRsZXIAAAABpm1pbmYAAAAUdm1oZAAAAAEAAAAAAAAAAAAAACRkaW5mAAAAHGRyZWYAAAAAAAAAAQAAAAx1cmwgAAAAAQAAAWZzdGJsAAAAlnN0c2QAAAAAAAAAAQAAAIZhdmMxAAAAAAAAAAEAAAAAAAAAAAAAAAAAAAAAAKAAoABIAAAASAAAAAAAAAABAAAAAAAAAAAAAAAAAAAAAAAAAAAAAAAAAAAAAAAAAAAAGP//AAAAMGF2Y0MBZAAL/+EAF2dkAAus2UKFaEAAAAMAQAAABQPFCmWAAQAGaOvjyyLAAAAAGHN0dHMAAAAAAAAAAQAAAAYAAAQAAAAAFHN0c3MAAAAAAAAAAQAAAAEAAABAY3R0cwAAAAAAAAAGAAAAAQAACAAAAAABAAAMAAAAAAEAAAQAAAAAAQAADAAAAAABAAAEAAAAAAEAAAgAAAAAHHN0c2MAAAAAAAAAAQAAAAEAAAAGAAAAAQAAACxzdHN6AAAAAAAAAAAAAAAGAAAEXgAAATgAAAA1AAAA5gAAALsAAAD0AAAAFHN0Y28AAAAAAAAAAQAAADAAAABidWR0YQAAAFptZXRhAAAAAAAAACFoZGxyAAAAAAAAAABtZGlyYXBwbAAAAAAAAAAAAAAAAC1pbHN0AAAAJal0b28AAAAdZGF0YQAAAAEAAAAATGF2ZjU4LjI5LjEwMA==\" type=\"video/mp4\" />\n",
              "             </video>"
            ]
          },
          "metadata": {}
        },
        {
          "output_type": "stream",
          "name": "stdout",
          "text": [
            "Moviepy - Building video /content/video/rl-video-episode-0.mp4.\n",
            "Moviepy - Writing video /content/video/rl-video-episode-0.mp4\n",
            "\n"
          ]
        },
        {
          "output_type": "stream",
          "name": "stderr",
          "text": [
            "                                                  "
          ]
        },
        {
          "output_type": "stream",
          "name": "stdout",
          "text": [
            "Moviepy - Done !\n",
            "Moviepy - video ready /content/video/rl-video-episode-0.mp4\n",
            "Total reward: 0.955\n",
            "Total length: 5\n"
          ]
        },
        {
          "output_type": "stream",
          "name": "stderr",
          "text": [
            "\r"
          ]
        },
        {
          "output_type": "display_data",
          "data": {
            "text/plain": [
              "<IPython.core.display.HTML object>"
            ],
            "text/html": [
              "<video alt=\"test\" autoplay \n",
              "                loop controls style=\"height: 400px;\">\n",
              "                <source src=\"data:video/mp4;base64,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\" type=\"video/mp4\" />\n",
              "             </video>"
            ]
          },
          "metadata": {}
        }
      ],
      "source": [
        "# final reward + policy plotting for easier evaluation\n",
        "plot_learning_curve(rewards, success_rate, params.num_updates)\n",
        "for _ in range(3):\n",
        "    log_policy_rollout(policy, params.env_name, pytorch_policy=True)"
      ]
    }
  ],
  "metadata": {
    "kernelspec": {
      "display_name": "Python 3",
      "language": "python",
      "name": "python3"
    },
    "language_info": {
      "codemirror_mode": {
        "name": "ipython",
        "version": 3
      },
      "file_extension": ".py",
      "mimetype": "text/x-python",
      "name": "python",
      "nbconvert_exporter": "python",
      "pygments_lexer": "ipython3",
      "version": "3.7.6"
    },
    "colab": {
      "provenance": []
    },
    "accelerator": "GPU",
    "gpuClass": "standard"
  },
  "nbformat": 4,
  "nbformat_minor": 0
}