{
  "nbformat": 4,
  "nbformat_minor": 0,
  "metadata": {
    "colab": {
      "provenance": []
    },
    "kernelspec": {
      "name": "python3",
      "display_name": "Python 3"
    },
    "language_info": {
      "name": "python"
    },
    "gpuClass": "standard",
    "accelerator": "GPU"
  },
  "cells": [
    {
      "cell_type": "code",
      "execution_count": null,
      "metadata": {
        "id": "d9ADJ98vbrjM"
      },
      "outputs": [],
      "source": []
    },
    {
      "cell_type": "code",
      "source": [
        "from google.colab import drive\n",
        "drive.mount('/content/drive')"
      ],
      "metadata": {
        "colab": {
          "base_uri": "https://localhost:8080/"
        },
        "id": "3bU0tseLbyHv",
        "outputId": "214896ca-521e-434e-f15f-020d0b0bca01"
      },
      "execution_count": null,
      "outputs": [
        {
          "output_type": "stream",
          "name": "stdout",
          "text": [
            "Drive already mounted at /content/drive; to attempt to forcibly remount, call drive.mount(\"/content/drive\", force_remount=True).\n"
          ]
        }
      ]
    },
    {
      "cell_type": "code",
      "source": [
        "!git clone https://github.com/lcswillems/rl-starter-files.git"
      ],
      "metadata": {
        "colab": {
          "base_uri": "https://localhost:8080/"
        },
        "id": "23V25BfBb_hx",
        "outputId": "ef69f3aa-9108-41d9-b283-304b9e38f4a9"
      },
      "execution_count": null,
      "outputs": [
        {
          "output_type": "stream",
          "name": "stdout",
          "text": [
            "Cloning into 'rl-starter-files'...\n",
            "remote: Enumerating objects: 2712, done.\u001b[K\n",
            "remote: Counting objects: 100% (61/61), done.\u001b[K\n",
            "remote: Compressing objects: 100% (35/35), done.\u001b[K\n",
            "remote: Total 2712 (delta 29), reused 39 (delta 26), pack-reused 2651\u001b[K\n",
            "Receiving objects: 100% (2712/2712), 28.09 MiB | 16.32 MiB/s, done.\n",
            "Resolving deltas: 100% (1635/1635), done.\n"
          ]
        }
      ]
    },
    {
      "cell_type": "code",
      "source": [
        "cd /content/drive/MyDrive/rl-starter-files"
      ],
      "metadata": {
        "colab": {
          "base_uri": "https://localhost:8080/"
        },
        "id": "XlXcERj_cDwK",
        "outputId": "f3987b24-9c64-43f5-de2a-644fc8dbbbf0"
      },
      "execution_count": null,
      "outputs": [
        {
          "output_type": "stream",
          "name": "stdout",
          "text": [
            "/content/drive/MyDrive/rl-starter-files\n"
          ]
        }
      ]
    },
    {
      "cell_type": "code",
      "source": [
        "!pip install -r requirements.txt"
      ],
      "metadata": {
        "colab": {
          "base_uri": "https://localhost:8080/"
        },
        "id": "naeNGwbUcHyI",
        "outputId": "85437638-514e-4810-8c87-69edfdf3f0dd"
      },
      "execution_count": null,
      "outputs": [
        {
          "output_type": "stream",
          "name": "stdout",
          "text": [
            "Looking in indexes: https://pypi.org/simple, https://us-python.pkg.dev/colab-wheels/public/simple/\n",
            "Requirement already satisfied: torch-ac>=1.4.0 in /usr/local/lib/python3.10/dist-packages (from -r requirements.txt (line 1)) (1.4.0)\n",
            "Requirement already satisfied: minigrid in /usr/local/lib/python3.10/dist-packages (from -r requirements.txt (line 2)) (2.2.1)\n",
            "Requirement already satisfied: tensorboardX>=1.6 in /usr/local/lib/python3.10/dist-packages (from -r requirements.txt (line 3)) (2.6)\n",
            "Requirement already satisfied: numpy>=1.3 in /usr/local/lib/python3.10/dist-packages (from -r requirements.txt (line 4)) (1.22.4)\n",
            "Requirement already satisfied: gymnasium>=0.26 in /usr/local/lib/python3.10/dist-packages (from -r requirements.txt (line 5)) (0.28.1)\n",
            "Requirement already satisfied: torch>=1.0.0 in /usr/local/lib/python3.10/dist-packages (from torch-ac>=1.4.0->-r requirements.txt (line 1)) (2.0.0+cu118)\n",
            "Requirement already satisfied: pygame>=2.2.0 in /usr/local/lib/python3.10/dist-packages (from minigrid->-r requirements.txt (line 2)) (2.3.0)\n",
            "Requirement already satisfied: protobuf<4,>=3.8.0 in /usr/local/lib/python3.10/dist-packages (from tensorboardX>=1.6->-r requirements.txt (line 3)) (3.20.3)\n",
            "Requirement already satisfied: packaging in /usr/local/lib/python3.10/dist-packages (from tensorboardX>=1.6->-r requirements.txt (line 3)) (23.1)\n",
            "Requirement already satisfied: jax-jumpy>=1.0.0 in /usr/local/lib/python3.10/dist-packages (from gymnasium>=0.26->-r requirements.txt (line 5)) (1.0.0)\n",
            "Requirement already satisfied: farama-notifications>=0.0.1 in /usr/local/lib/python3.10/dist-packages (from gymnasium>=0.26->-r requirements.txt (line 5)) (0.0.4)\n",
            "Requirement already satisfied: typing-extensions>=4.3.0 in /usr/local/lib/python3.10/dist-packages (from gymnasium>=0.26->-r requirements.txt (line 5)) (4.5.0)\n",
            "Requirement already satisfied: cloudpickle>=1.2.0 in /usr/local/lib/python3.10/dist-packages (from gymnasium>=0.26->-r requirements.txt (line 5)) (2.2.1)\n",
            "Requirement already satisfied: sympy in /usr/local/lib/python3.10/dist-packages (from torch>=1.0.0->torch-ac>=1.4.0->-r requirements.txt (line 1)) (1.11.1)\n",
            "Requirement already satisfied: triton==2.0.0 in /usr/local/lib/python3.10/dist-packages (from torch>=1.0.0->torch-ac>=1.4.0->-r requirements.txt (line 1)) (2.0.0)\n",
            "Requirement already satisfied: filelock in /usr/local/lib/python3.10/dist-packages (from torch>=1.0.0->torch-ac>=1.4.0->-r requirements.txt (line 1)) (3.12.0)\n",
            "Requirement already satisfied: networkx in /usr/local/lib/python3.10/dist-packages (from torch>=1.0.0->torch-ac>=1.4.0->-r requirements.txt (line 1)) (3.1)\n",
            "Requirement already satisfied: jinja2 in /usr/local/lib/python3.10/dist-packages (from torch>=1.0.0->torch-ac>=1.4.0->-r requirements.txt (line 1)) (3.1.2)\n",
            "Requirement already satisfied: lit in /usr/local/lib/python3.10/dist-packages (from triton==2.0.0->torch>=1.0.0->torch-ac>=1.4.0->-r requirements.txt (line 1)) (16.0.2)\n",
            "Requirement already satisfied: cmake in /usr/local/lib/python3.10/dist-packages (from triton==2.0.0->torch>=1.0.0->torch-ac>=1.4.0->-r requirements.txt (line 1)) (3.25.2)\n",
            "Requirement already satisfied: MarkupSafe>=2.0 in /usr/local/lib/python3.10/dist-packages (from jinja2->torch>=1.0.0->torch-ac>=1.4.0->-r requirements.txt (line 1)) (2.1.2)\n",
            "Requirement already satisfied: mpmath>=0.19 in /usr/local/lib/python3.10/dist-packages (from sympy->torch>=1.0.0->torch-ac>=1.4.0->-r requirements.txt (line 1)) (1.3.0)\n"
          ]
        }
      ]
    },
    {
      "cell_type": "code",
      "source": [
        "%matplotlib inline\n",
        "!python -m scripts.train --algo ppo --env MiniGrid-DoorKey-8x8-v0 --model 8X8 --save-interval 20 --frames 320000 --recurrence = 4"
      ],
      "metadata": {
        "colab": {
          "base_uri": "https://localhost:8080/"
        },
        "id": "lHOYolg9cMCE",
        "outputId": "6443fdd3-5324-48ce-da80-a8dc0ed8cf80"
      },
      "execution_count": null,
      "outputs": [
        {
          "output_type": "stream",
          "name": "stdout",
          "text": [
            "pygame 2.3.0 (SDL 2.24.2, Python 3.10.11)\n",
            "Hello from the pygame community. https://www.pygame.org/contribute.html\n",
            "/content/drive/MyDrive/rl-starter-files/scripts/train.py --algo ppo --env MiniGrid-DoorKey-8x8-v0 --model 8X8 --save-interval 20 --frames 320000\n",
            "\n",
            "Namespace(algo='ppo', env='MiniGrid-DoorKey-8x8-v0', model='8X8', seed=1, log_interval=1, save_interval=20, procs=16, frames=320000, epochs=4, batch_size=128, frames_per_proc=None, discount=0.7, lr=1e-05, gae_lambda=0.95, entropy_coef=0.01, value_loss_coef=0.5, max_grad_norm=0.5, optim_eps=1e-08, optim_alpha=0.99, clip_eps=0.2, recurrence=1, text=False, mem=False)\n",
            "\n",
            "Device: cuda\n",
            "\n",
            "Environments loaded\n",
            "\n",
            "Training status loaded\n",
            "\n",
            "Observations preprocessor loaded\n",
            "Model loaded\n",
            "\n",
            "ACModel(\n",
            "  (image_conv): Sequential(\n",
            "    (0): Conv2d(3, 16, kernel_size=(2, 2), stride=(1, 1))\n",
            "    (1): ReLU()\n",
            "    (2): MaxPool2d(kernel_size=(2, 2), stride=(2, 2), padding=0, dilation=1, ceil_mode=False)\n",
            "    (3): Conv2d(16, 32, kernel_size=(2, 2), stride=(1, 1))\n",
            "    (4): ReLU()\n",
            "    (5): Conv2d(32, 64, kernel_size=(2, 2), stride=(1, 1))\n",
            "    (6): ReLU()\n",
            "  )\n",
            "  (actor): Sequential(\n",
            "    (0): Linear(in_features=40000, out_features=64, bias=True)\n",
            "    (1): Tanh()\n",
            "    (2): Linear(in_features=64, out_features=5, bias=True)\n",
            "  )\n",
            "  (critic): Sequential(\n",
            "    (0): Linear(in_features=40000, out_features=64, bias=True)\n",
            "    (1): Tanh()\n",
            "    (2): Linear(in_features=64, out_features=1, bias=True)\n",
            "  )\n",
            ")\n",
            "\n",
            "Optimizer loaded\n",
            "\n",
            "U 1 | F 002048 | FPS 0275 | D 7 | rR:μσmM 0.00 0.00 0.00 0.00 | F:μσmM 0.0 0.0 0 0 | H 1.136 | V -0.269 | pL -0.905 | vL 0.824 | ∇ 16.729\n",
            "U 2 | F 004096 | FPS 0560 | D 11 | rR:μσmM 0.00 0.00 0.00 0.00 | F:μσmM 0.0 0.0 0 0 | H 1.147 | V -0.019 | pL -0.234 | vL 0.127 | ∇ 5.237\n",
            "Process Process-10:\n",
            "Process Process-12:\n",
            "Traceback (most recent call last):\n",
            "Process Process-1:\n",
            "Process Process-13:\n",
            "Process Process-11:\n",
            "Process Process-9:\n",
            "Traceback (most recent call last):\n",
            "Traceback (most recent call last):\n",
            "  File \"/usr/lib/python3.10/multiprocessing/process.py\", line 314, in _bootstrap\n",
            "    self.run()\n",
            "  File \"/usr/lib/python3.10/multiprocessing/process.py\", line 108, in run\n",
            "    self._target(*self._args, **self._kwargs)\n",
            "  File \"/usr/local/lib/python3.10/dist-packages/torch_ac/utils/penv.py\", line 9, in worker\n",
            "    cmd, data = conn.recv()\n",
            "  File \"/usr/lib/python3.10/multiprocessing/connection.py\", line 250, in recv\n",
            "    buf = self._recv_bytes()\n",
            "  File \"/usr/lib/python3.10/multiprocessing/connection.py\", line 414, in _recv_bytes\n",
            "    buf = self._recv(4)\n",
            "  File \"/usr/lib/python3.10/multiprocessing/connection.py\", line 379, in _recv\n",
            "    chunk = read(handle, remaining)\n",
            "KeyboardInterrupt\n",
            "  File \"/usr/lib/python3.10/multiprocessing/process.py\", line 314, in _bootstrap\n",
            "    self.run()\n",
            "Traceback (most recent call last):\n",
            "  File \"/usr/lib/python3.10/multiprocessing/process.py\", line 108, in run\n",
            "    self._target(*self._args, **self._kwargs)\n",
            "  File \"/usr/local/lib/python3.10/dist-packages/torch_ac/utils/penv.py\", line 11, in worker\n",
            "    obs, reward, terminated, truncated, info = env.step(data)\n",
            "  File \"/usr/local/lib/python3.10/dist-packages/gymnasium/core.py\", line 470, in step\n",
            "    return self.observation(observation), reward, terminated, truncated, info\n",
            "  File \"/usr/local/lib/python3.10/dist-packages/minigrid/wrappers.py\", line 373, in observation\n",
            "    rgb_img_partial = self.get_frame(tile_size=self.tile_size, agent_pov=True)\n",
            "  File \"/usr/local/lib/python3.10/dist-packages/minigrid/minigrid_env.py\", line 728, in get_frame\n",
            "    return self.get_pov_render(tile_size)\n",
            "  File \"/usr/local/lib/python3.10/dist-packages/minigrid/minigrid_env.py\", line 650, in get_pov_render\n",
            "    img = grid.render(\n",
            "  File \"/usr/local/lib/python3.10/dist-packages/minigrid/core/grid.py\", line 240, in render\n",
            "    img[ymin:ymax, xmin:xmax, :] = tile_img\n",
            "KeyboardInterrupt\n",
            "Traceback (most recent call last):\n",
            "Traceback (most recent call last):\n",
            "  File \"/usr/lib/python3.10/multiprocessing/process.py\", line 314, in _bootstrap\n",
            "    self.run()\n",
            "Process Process-14:\n",
            "  File \"/usr/lib/python3.10/multiprocessing/process.py\", line 108, in run\n",
            "    self._target(*self._args, **self._kwargs)\n",
            "  File \"/usr/local/lib/python3.10/dist-packages/torch_ac/utils/penv.py\", line 11, in worker\n",
            "    obs, reward, terminated, truncated, info = env.step(data)\n",
            "  File \"/usr/local/lib/python3.10/dist-packages/gymnasium/core.py\", line 470, in step\n",
            "    return self.observation(observation), reward, terminated, truncated, info\n",
            "  File \"/usr/lib/python3.10/multiprocessing/process.py\", line 314, in _bootstrap\n",
            "    self.run()\n",
            "  File \"/usr/local/lib/python3.10/dist-packages/minigrid/wrappers.py\", line 373, in observation\n",
            "    rgb_img_partial = self.get_frame(tile_size=self.tile_size, agent_pov=True)\n",
            "  File \"/usr/local/lib/python3.10/dist-packages/minigrid/minigrid_env.py\", line 728, in get_frame\n",
            "    return self.get_pov_render(tile_size)\n",
            "  File \"/usr/local/lib/python3.10/dist-packages/minigrid/minigrid_env.py\", line 647, in get_pov_render\n",
            "    grid, vis_mask = self.gen_obs_grid()\n",
            "  File \"/usr/local/lib/python3.10/dist-packages/minigrid/minigrid_env.py\", line 600, in gen_obs_grid\n",
            "    grid = self.grid.slice(topX, topY, agent_view_size, agent_view_size)\n",
            "  File \"/usr/local/lib/python3.10/dist-packages/minigrid/core/grid.py\", line 139, in slice\n",
            "    v = Wall()\n",
            "  File \"/usr/local/lib/python3.10/dist-packages/minigrid/core/world_object.py\", line 163, in __init__\n",
            "    super().__init__(\"wall\", color)\n",
            "KeyboardInterrupt\n",
            "  File \"/usr/lib/python3.10/multiprocessing/process.py\", line 314, in _bootstrap\n",
            "    self.run()\n",
            "  File \"/usr/lib/python3.10/multiprocessing/process.py\", line 108, in run\n",
            "    self._target(*self._args, **self._kwargs)\n",
            "  File \"/usr/lib/python3.10/multiprocessing/process.py\", line 314, in _bootstrap\n",
            "    self.run()\n",
            "  File \"/usr/local/lib/python3.10/dist-packages/torch_ac/utils/penv.py\", line 11, in worker\n",
            "    obs, reward, terminated, truncated, info = env.step(data)\n",
            "  File \"/usr/local/lib/python3.10/dist-packages/gymnasium/core.py\", line 470, in step\n",
            "    return self.observation(observation), reward, terminated, truncated, info\n",
            "  File \"/usr/local/lib/python3.10/dist-packages/minigrid/wrappers.py\", line 373, in observation\n",
            "    rgb_img_partial = self.get_frame(tile_size=self.tile_size, agent_pov=True)\n",
            "  File \"/usr/local/lib/python3.10/dist-packages/minigrid/minigrid_env.py\", line 728, in get_frame\n",
            "    return self.get_pov_render(tile_size)\n",
            "  File \"/usr/local/lib/python3.10/dist-packages/minigrid/minigrid_env.py\", line 650, in get_pov_render\n",
            "    img = grid.render(\n",
            "  File \"/usr/local/lib/python3.10/dist-packages/minigrid/core/grid.py\", line 240, in render\n",
            "    img[ymin:ymax, xmin:xmax, :] = tile_img\n",
            "Traceback (most recent call last):\n",
            "KeyboardInterrupt\n",
            "  File \"/usr/lib/python3.10/multiprocessing/process.py\", line 108, in run\n",
            "    self._target(*self._args, **self._kwargs)\n",
            "  File \"/usr/lib/python3.10/multiprocessing/process.py\", line 108, in run\n",
            "    self._target(*self._args, **self._kwargs)\n",
            "  File \"/usr/local/lib/python3.10/dist-packages/torch_ac/utils/penv.py\", line 9, in worker\n",
            "    cmd, data = conn.recv()\n",
            "  File \"/usr/local/lib/python3.10/dist-packages/torch_ac/utils/penv.py\", line 14, in worker\n",
            "    conn.send((obs, reward, terminated, truncated, info))\n",
            "Traceback (most recent call last):\n",
            "  File \"/usr/lib/python3.10/multiprocessing/connection.py\", line 250, in recv\n",
            "    buf = self._recv_bytes()\n",
            "  File \"/usr/lib/python3.10/multiprocessing/connection.py\", line 414, in _recv_bytes\n",
            "    buf = self._recv(4)\n",
            "  File \"/usr/lib/python3.10/multiprocessing/connection.py\", line 379, in _recv\n",
            "    chunk = read(handle, remaining)\n",
            "KeyboardInterrupt\n",
            "  File \"/usr/lib/python3.10/multiprocessing/connection.py\", line 206, in send\n",
            "    self._send_bytes(_ForkingPickler.dumps(obj))\n",
            "  File \"/usr/lib/python3.10/multiprocessing/reduction.py\", line 51, in dumps\n",
            "    cls(buf, protocol).dump(obj)\n",
            "  File \"/usr/local/lib/python3.10/dist-packages/numpy/core/__init__.py\", line 144, in _DType_reduce\n",
            "    def _DType_reduce(DType):\n",
            "KeyboardInterrupt\n",
            "Process Process-5:\n",
            "Traceback (most recent call last):\n",
            "  File \"/usr/lib/python3.10/multiprocessing/process.py\", line 314, in _bootstrap\n",
            "    self.run()\n",
            "  File \"/usr/lib/python3.10/multiprocessing/process.py\", line 108, in run\n",
            "    self._target(*self._args, **self._kwargs)\n",
            "  File \"/usr/local/lib/python3.10/dist-packages/torch_ac/utils/penv.py\", line 9, in worker\n",
            "    cmd, data = conn.recv()\n",
            "  File \"/usr/lib/python3.10/multiprocessing/connection.py\", line 250, in recv\n",
            "    buf = self._recv_bytes()\n",
            "  File \"/usr/lib/python3.10/multiprocessing/connection.py\", line 414, in _recv_bytes\n",
            "    buf = self._recv(4)\n",
            "  File \"/usr/lib/python3.10/multiprocessing/connection.py\", line 379, in _recv\n",
            "    chunk = read(handle, remaining)\n",
            "KeyboardInterrupt\n",
            "  File \"/usr/lib/python3.10/multiprocessing/process.py\", line 314, in _bootstrap\n",
            "    self.run()\n",
            "  File \"/usr/lib/python3.10/multiprocessing/process.py\", line 108, in run\n",
            "    self._target(*self._args, **self._kwargs)\n",
            "  File \"/usr/local/lib/python3.10/dist-packages/torch_ac/utils/penv.py\", line 9, in worker\n",
            "    cmd, data = conn.recv()\n",
            "  File \"/usr/lib/python3.10/multiprocessing/connection.py\", line 250, in recv\n",
            "    buf = self._recv_bytes()\n",
            "  File \"/usr/lib/python3.10/multiprocessing/connection.py\", line 414, in _recv_bytes\n",
            "    buf = self._recv(4)\n",
            "  File \"/usr/lib/python3.10/multiprocessing/connection.py\", line 379, in _recv\n",
            "    chunk = read(handle, remaining)\n",
            "KeyboardInterrupt\n",
            "Process Process-4:\n",
            "Process Process-15:\n",
            "Traceback (most recent call last):\n",
            "  File \"/usr/lib/python3.10/multiprocessing/process.py\", line 314, in _bootstrap\n",
            "    self.run()\n",
            "  File \"/usr/lib/python3.10/multiprocessing/process.py\", line 108, in run\n",
            "    self._target(*self._args, **self._kwargs)\n",
            "  File \"/usr/local/lib/python3.10/dist-packages/torch_ac/utils/penv.py\", line 9, in worker\n",
            "    cmd, data = conn.recv()\n",
            "  File \"/usr/lib/python3.10/multiprocessing/connection.py\", line 250, in recv\n",
            "    buf = self._recv_bytes()\n",
            "  File \"/usr/lib/python3.10/multiprocessing/connection.py\", line 414, in _recv_bytes\n",
            "    buf = self._recv(4)\n",
            "  File \"/usr/lib/python3.10/multiprocessing/connection.py\", line 379, in _recv\n",
            "    chunk = read(handle, remaining)\n",
            "KeyboardInterrupt\n",
            "Traceback (most recent call last):\n",
            "Process Process-8:\n",
            "Process Process-7:\n",
            "Traceback (most recent call last):\n",
            "  File \"/usr/lib/python3.10/multiprocessing/process.py\", line 314, in _bootstrap\n",
            "    self.run()\n",
            "  File \"/usr/lib/python3.10/multiprocessing/process.py\", line 108, in run\n",
            "    self._target(*self._args, **self._kwargs)\n",
            "  File \"/usr/local/lib/python3.10/dist-packages/torch_ac/utils/penv.py\", line 9, in worker\n",
            "    cmd, data = conn.recv()\n",
            "  File \"/usr/lib/python3.10/multiprocessing/connection.py\", line 250, in recv\n",
            "    buf = self._recv_bytes()\n",
            "  File \"/usr/lib/python3.10/multiprocessing/connection.py\", line 414, in _recv_bytes\n",
            "    buf = self._recv(4)\n",
            "  File \"/usr/lib/python3.10/multiprocessing/connection.py\", line 379, in _recv\n",
            "    chunk = read(handle, remaining)\n",
            "KeyboardInterrupt\n",
            "Traceback (most recent call last):\n",
            "Process Process-6:\n",
            "Traceback (most recent call last):\n",
            "  File \"/usr/lib/python3.10/multiprocessing/process.py\", line 314, in _bootstrap\n",
            "    self.run()\n",
            "  File \"/usr/lib/python3.10/multiprocessing/process.py\", line 108, in run\n",
            "    self._target(*self._args, **self._kwargs)\n",
            "  File \"/usr/local/lib/python3.10/dist-packages/torch_ac/utils/penv.py\", line 9, in worker\n",
            "    cmd, data = conn.recv()\n",
            "  File \"/usr/lib/python3.10/multiprocessing/connection.py\", line 250, in recv\n",
            "    buf = self._recv_bytes()\n",
            "  File \"/usr/lib/python3.10/multiprocessing/connection.py\", line 414, in _recv_bytes\n",
            "    buf = self._recv(4)\n",
            "  File \"/usr/lib/python3.10/multiprocessing/connection.py\", line 379, in _recv\n",
            "    chunk = read(handle, remaining)\n",
            "KeyboardInterrupt\n",
            "Process Process-3:\n",
            "  File \"/usr/lib/python3.10/multiprocessing/process.py\", line 314, in _bootstrap\n",
            "    self.run()\n",
            "  File \"/usr/lib/python3.10/multiprocessing/process.py\", line 108, in run\n",
            "    self._target(*self._args, **self._kwargs)\n",
            "  File \"/usr/local/lib/python3.10/dist-packages/torch_ac/utils/penv.py\", line 9, in worker\n",
            "    cmd, data = conn.recv()\n",
            "  File \"/usr/lib/python3.10/multiprocessing/connection.py\", line 250, in recv\n",
            "    buf = self._recv_bytes()\n",
            "  File \"/usr/lib/python3.10/multiprocessing/connection.py\", line 414, in _recv_bytes\n",
            "    buf = self._recv(4)\n",
            "  File \"/usr/lib/python3.10/multiprocessing/connection.py\", line 379, in _recv\n",
            "    chunk = read(handle, remaining)\n",
            "Traceback (most recent call last):\n",
            "KeyboardInterrupt\n",
            "  File \"/usr/lib/python3.10/multiprocessing/process.py\", line 314, in _bootstrap\n",
            "    self.run()\n",
            "  File \"/usr/lib/python3.10/multiprocessing/process.py\", line 108, in run\n",
            "    self._target(*self._args, **self._kwargs)\n",
            "  File \"/usr/local/lib/python3.10/dist-packages/torch_ac/utils/penv.py\", line 9, in worker\n",
            "    cmd, data = conn.recv()\n",
            "  File \"/usr/lib/python3.10/multiprocessing/connection.py\", line 250, in recv\n",
            "    buf = self._recv_bytes()\n",
            "  File \"/usr/lib/python3.10/multiprocessing/connection.py\", line 414, in _recv_bytes\n",
            "    buf = self._recv(4)\n",
            "  File \"/usr/lib/python3.10/multiprocessing/connection.py\", line 379, in _recv\n",
            "    chunk = read(handle, remaining)\n",
            "KeyboardInterrupt\n",
            "  File \"/usr/lib/python3.10/runpy.py\", line 196, in _run_module_as_main\n",
            "    return _run_code(code, main_globals, None,\n",
            "  File \"/usr/lib/python3.10/runpy.py\", line 86, in _run_code\n",
            "    exec(code, run_globals)\n",
            "  File \"/content/drive/MyDrive/rl-starter-files/scripts/train.py\", line 154, in <module>\n",
            "  File \"/usr/lib/python3.10/multiprocessing/process.py\", line 314, in _bootstrap\n",
            "    self.run()\n",
            "  File \"/usr/lib/python3.10/multiprocessing/process.py\", line 108, in run\n",
            "    self._target(*self._args, **self._kwargs)\n",
            "  File \"/usr/local/lib/python3.10/dist-packages/torch_ac/utils/penv.py\", line 9, in worker\n",
            "    cmd, data = conn.recv()\n",
            "  File \"/usr/lib/python3.10/multiprocessing/connection.py\", line 250, in recv\n",
            "    buf = self._recv_bytes()\n",
            "  File \"/usr/lib/python3.10/multiprocessing/connection.py\", line 414, in _recv_bytes\n",
            "    buf = self._recv(4)\n",
            "Process Process-2:\n",
            "  File \"/usr/lib/python3.10/multiprocessing/connection.py\", line 379, in _recv\n",
            "    chunk = read(handle, remaining)\n",
            "KeyboardInterrupt\n",
            "Traceback (most recent call last):\n",
            "  File \"/usr/lib/python3.10/multiprocessing/process.py\", line 314, in _bootstrap\n",
            "    self.run()\n",
            "  File \"/usr/lib/python3.10/multiprocessing/process.py\", line 108, in run\n",
            "    self._target(*self._args, **self._kwargs)\n",
            "  File \"/usr/local/lib/python3.10/dist-packages/torch_ac/utils/penv.py\", line 9, in worker\n",
            "    cmd, data = conn.recv()\n",
            "  File \"/usr/lib/python3.10/multiprocessing/connection.py\", line 250, in recv\n",
            "    buf = self._recv_bytes()\n",
            "  File \"/usr/lib/python3.10/multiprocessing/connection.py\", line 414, in _recv_bytes\n",
            "    buf = self._recv(4)\n",
            "  File \"/usr/lib/python3.10/multiprocessing/connection.py\", line 379, in _recv\n",
            "    chunk = read(handle, remaining)\n",
            "KeyboardInterrupt\n",
            "    exps, logs1 = algo.collect_experiences()\n",
            "  File \"/usr/local/lib/python3.10/dist-packages/torch_ac/algos/base.py\", line 138, in collect_experiences\n",
            "    obs, reward, terminated, truncated, _ = self.env.step(action.cpu().numpy())\n",
            "  File \"/usr/local/lib/python3.10/dist-packages/torch_ac/utils/penv.py\", line 52, in step\n",
            "    results = zip(*[(obs, reward, terminated, truncated, info)] + [local.recv() for local in self.locals])\n",
            "  File \"/usr/local/lib/python3.10/dist-packages/torch_ac/utils/penv.py\", line 52, in <listcomp>\n",
            "    results = zip(*[(obs, reward, terminated, truncated, info)] + [local.recv() for local in self.locals])\n",
            "  File \"/usr/lib/python3.10/multiprocessing/connection.py\", line 250, in recv\n",
            "    buf = self._recv_bytes()\n",
            "  File \"/usr/lib/python3.10/multiprocessing/connection.py\", line 414, in _recv_bytes\n",
            "    buf = self._recv(4)\n",
            "  File \"/usr/lib/python3.10/multiprocessing/connection.py\", line 379, in _recv\n",
            "    chunk = read(handle, remaining)\n",
            "KeyboardInterrupt\n",
            "^C\n"
          ]
        }
      ]
    },
    {
      "cell_type": "code",
      "source": [
        "%matplotlib inline\n",
        "!python -m scripts.evaluate --env MiniGrid-DoorKey-8x8-v0 --model 8x8"
      ],
      "metadata": {
        "colab": {
          "base_uri": "https://localhost:8080/"
        },
        "id": "5jig4mwtcTUY",
        "outputId": "27719f98-b92e-4dcb-a34f-fe63eef21684"
      },
      "execution_count": null,
      "outputs": [
        {
          "output_type": "stream",
          "name": "stdout",
          "text": [
            "pygame 2.3.0 (SDL 2.24.2, Python 3.10.11)\n",
            "Hello from the pygame community. https://www.pygame.org/contribute.html\n",
            "Device: cuda\n",
            "\n",
            "Environments loaded\n",
            "\n",
            "Agent loaded\n",
            "\n",
            "F 2501.0 | FPS 333 | D 7 | R:μσmM 19.00 0.00 19.00 19.00 | F:μσmM 25.0 14.8 10.0 105.0\n",
            "\n",
            "10 worst episodes:\n",
            "- episode 0: R=19.0, F=10.0\n",
            "- episode 1: R=19.0, F=13.0\n",
            "- episode 2: R=19.0, F=16.0\n",
            "- episode 3: R=19.0, F=18.0\n",
            "- episode 4: R=19.0, F=20.0\n",
            "- episode 5: R=19.0, F=22.0\n",
            "- episode 6: R=19.0, F=13.0\n",
            "- episode 7: R=19.0, F=24.0\n",
            "- episode 8: R=19.0, F=26.0\n",
            "- episode 9: R=19.0, F=27.0\n"
          ]
        }
      ]
    },
    {
      "cell_type": "code",
      "source": [
        "!pip install array2gif"
      ],
      "metadata": {
        "colab": {
          "base_uri": "https://localhost:8080/"
        },
        "id": "GDvXl8z_g38b",
        "outputId": "4dcb72b4-a3a4-470c-b96b-91430670fd5d"
      },
      "execution_count": null,
      "outputs": [
        {
          "output_type": "stream",
          "name": "stdout",
          "text": [
            "Looking in indexes: https://pypi.org/simple, https://us-python.pkg.dev/colab-wheels/public/simple/\n",
            "Requirement already satisfied: array2gif in /usr/local/lib/python3.10/dist-packages (1.0.4)\n",
            "Requirement already satisfied: numpy in /usr/local/lib/python3.10/dist-packages (from array2gif) (1.22.4)\n"
          ]
        }
      ]
    },
    {
      "cell_type": "code",
      "source": [
        "!python -m scripts.visualize --env MiniGrid-DoorKey-8x8-v0 --model 8x8"
      ],
      "metadata": {
        "colab": {
          "base_uri": "https://localhost:8080/"
        },
        "id": "fQgGk3qodBYa",
        "outputId": "823d9e38-4fe4-4060-8fe9-3b8e93ed6d24"
      },
      "execution_count": null,
      "outputs": [
        {
          "output_type": "stream",
          "name": "stdout",
          "text": [
            "pygame 2.3.0 (SDL 2.24.2, Python 3.10.11)\n",
            "Hello from the pygame community. https://www.pygame.org/contribute.html\n",
            "Device: cuda\n",
            "\n",
            "Environment loaded\n",
            "\n",
            "Agent loaded\n",
            "\n",
            "Done\n",
            "Done\n",
            "Done\n",
            "Done\n",
            "Done\n",
            "Done\n",
            "Done\n",
            "Done\n",
            "Done\n",
            "Done\n",
            "Traceback (most recent call last):\n",
            "  File \"/usr/lib/python3.10/runpy.py\", line 196, in _run_module_as_main\n",
            "    return _run_code(code, main_globals, None,\n",
            "  File \"/usr/lib/python3.10/runpy.py\", line 86, in _run_code\n",
            "    exec(code, run_globals)\n",
            "  File \"/content/drive/MyDrive/rl-starter-files/scripts/visualize.py\", line 73, in <module>\n",
            "    action = agent.get_action(obs)\n",
            "  File \"/content/drive/MyDrive/rl-starter-files/utils/agent.py\", line 48, in get_action\n",
            "    return self.get_actions([obs])[0]\n",
            "  File \"/content/drive/MyDrive/rl-starter-files/utils/agent.py\", line 36, in get_actions\n",
            "    dist, _, self.memories = self.acmodel(preprocessed_obss, self.memories)\n",
            "  File \"/usr/local/lib/python3.10/dist-packages/torch/nn/modules/module.py\", line 1501, in _call_impl\n",
            "    return forward_call(*args, **kwargs)\n",
            "  File \"/content/drive/MyDrive/rl-starter-files/model.py\", line 196, in forward\n",
            "    x = self.image_conv(x)\n",
            "  File \"/usr/local/lib/python3.10/dist-packages/torch/nn/modules/module.py\", line 1501, in _call_impl\n",
            "    return forward_call(*args, **kwargs)\n",
            "  File \"/usr/local/lib/python3.10/dist-packages/torch/nn/modules/container.py\", line 217, in forward\n",
            "    input = module(input)\n",
            "  File \"/usr/local/lib/python3.10/dist-packages/torch/nn/modules/module.py\", line 1501, in _call_impl\n",
            "    return forward_call(*args, **kwargs)\n",
            "  File \"/usr/local/lib/python3.10/dist-packages/torch/nn/modules/conv.py\", line 463, in forward\n",
            "    return self._conv_forward(input, self.weight, self.bias)\n",
            "  File \"/usr/local/lib/python3.10/dist-packages/torch/nn/modules/conv.py\", line 459, in _conv_forward\n",
            "    return F.conv2d(input, weight, bias, self.stride,\n",
            "KeyboardInterrupt\n",
            "^C\n"
          ]
        }
      ]
    },
    {
      "cell_type": "code",
      "source": [],
      "metadata": {
        "id": "zgSvxTG0dIbB"
      },
      "execution_count": null,
      "outputs": []
    },
    {
      "cell_type": "code",
      "source": [],
      "metadata": {
        "id": "N5-0Pzd0qrzY"
      },
      "execution_count": null,
      "outputs": []
    }
  ]
}